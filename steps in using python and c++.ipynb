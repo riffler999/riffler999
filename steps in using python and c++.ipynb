{
 "cells": [
  {
   "cell_type": "code",
   "execution_count": null,
   "metadata": {},
   "outputs": [],
   "source": []
  },
  {
   "cell_type": "code",
   "execution_count": null,
   "metadata": {
    "vscode": {
     "languageId": "cpp"
    }
   },
   "outputs": [],
   "source": []
  },
  {
   "cell_type": "code",
   "execution_count": null,
   "metadata": {
    "vscode": {
     "languageId": "cpp"
    }
   },
   "outputs": [],
   "source": [
    "//Initialize the array that will hold the primes var \n",
    "   prime Array=[];\n",
    "       /*Write a function that checks for primeness and pushes\n",
    "              those values to the array*/\n",
    "  function Primecheck (candidate){  is Prime=True}\n",
    "for(var i=2;i <candidate && is Prime :i++){if(candidate% i===0)   {   isPrime=False;\n",
    "                                                                   }else {    \n",
    "                                                                        isPrime=true;\n",
    "                                                                   }\n",
    "}\n",
    " if(isPrime){\n",
    "     primeArray.push(candidates);\n",
    " }  \n",
    " return primeArray\n",
    "}\n",
    "/*Write the code that the above until the length of array equals the number of primes desired*/\n",
    "\n",
    "var numPrimes=prompt(''How many primes?'');\n",
    "\n",
    "//Display finished array of primes\n",
    "\n",
    "//for loop starting at2 as that is the lowest prime number number keep going until the array is as long as we requested for (var i =2;primeArray.length<numPrimes;i++){\n",
    "     Primecheck(i);//\n",
    "}\n",
    "Console.log(primeArray) ;  "
   ]
  },
  {
   "cell_type": "code",
   "execution_count": null,
   "metadata": {},
   "outputs": [],
   "source": [
    "                               "
   ]
  }
 ],
 "metadata": {
  "language_info": {
   "name": "python"
  }
 },
 "nbformat": 4,
 "nbformat_minor": 2
}
